{
 "cells": [
  {
   "cell_type": "markdown",
   "id": "0a70b690",
   "metadata": {},
   "source": [
    "## Table of Content: <a class=\"anchor\" id=\"table-of-content\"></a>\n",
    "* [1. Problem Background and Motivation](#problem-background)\n",
    "* [2. Import Packages](#import-package)\n",
    "* [3. Data Preparation](#data-preparation)\n",
    "* [4. Machine Learning Model](#ml-model)\n",
    "* [5. Conclusion](#model-conclusion)"
   ]
  },
  {
   "cell_type": "markdown",
   "id": "fc1d94a4",
   "metadata": {},
   "source": [
    "# 1. Problem Background & Motivation  <a class=\"anchor\" id=\"problem-background\"></a>\n",
    "\n",
    "## What is the problem?\n",
    "In the growing hotel industry, hotel operators must master competitive agility to maintain profitability. Competitive agility means they need to be prepared for boosting growth, optimize cost and most important refresh the operating model by analyzing the way of working. \n",
    "When it comes to refreshing operating model, the hotel owners need to know what are the features the hotel needs to work upon to avoid cancellation and increase customer satisfaction. <br>\n",
    "<img src =\"https://encrypted-tbn0.gstatic.com/images?q=tbn:ANd9GcQe53huZG9YunYIyGu-BSc2Er1enQsDyWw9tw&usqp=CAU\">\n",
    "\n",
    "\n",
    "\n",
    "## Motivation\n",
    "\n",
    "As a Data Scientist, my task is to develop a model that would predict the booking cancellation depending on set of feature variables. This will help the hotel to generate better forecasts, modify their operating model and also come up with good business strategies. \n",
    "\n",
    "* [Go to Top](#table-of-content)\n"
   ]
  },
  {
   "cell_type": "markdown",
   "id": "85bd75ac",
   "metadata": {},
   "source": [
    "# 2. Import Packages  <a class=\"anchor\" id=\"import-package\"></a>\n",
    "> **Numpy** : NumPy is a library for the Python programming language, adding support for large, multi-dimensional arrays and matrices, along with a large collection of high-level mathematical functions to operate on these arrays. <br> <br>\n",
    " **Pandas** : Pandas is a software library written for the Python programming language for data manipulation and analysis. <br> \n",
    " \n",
    " ##### The graphic libraries\n",
    " \n",
    " >**Seaborn** : Seaborn is a Python data visualization library based on matplotlib. It provides a high-level interface for drawing attractive and informative statistical graphics. <br> <br>\n",
    " \n",
    " \n",
    " ##### The Machine Learning Libraries\n",
    " >**Sklearn** : Scikit-learn is a free software machine learning library for the Python programming language featuring various classification, regression and clustering algorithms.\n",
    " \n",
    " * [Go to Top](#table-of-content)"
   ]
  },
  {
   "cell_type": "code",
   "execution_count": 59,
   "id": "ca6da05e",
   "metadata": {},
   "outputs": [],
   "source": [
    "import numpy as np\n",
    "import pandas as pd\n",
    "import seaborn as sns\n",
    "import matplotlib.pyplot as plt\n",
    "\n",
    "from sklearn.preprocessing import LabelEncoder, StandardScaler, MinMaxScaler\n",
    "from sklearn.model_selection import train_test_split, cross_val_score, GridSearchCV\n",
    "from sklearn.feature_selection import SelectFromModel, SelectPercentile\n",
    "from sklearn.metrics import f1_score, confusion_matrix\n",
    "\n",
    "from sklearn.linear_model import LogisticRegression, RidgeClassifier, SGDClassifier\n",
    "from sklearn.svm import LinearSVC\n",
    "from sklearn.tree import DecisionTreeClassifier\n",
    "from sklearn.ensemble import RandomForestClassifier, GradientBoostingClassifier, AdaBoostClassifier\n",
    "from sklearn.neighbors import KNeighborsClassifier\n",
    "from sklearn.neural_network import MLPClassifier\n",
    "from sklearn.naive_bayes import GaussianNB\n",
    "from sklearn.model_selection import GridSearchCV\n",
    "from sklearn.linear_model import LogisticRegression\n",
    "from sklearn.model_selection import RepeatedStratifiedKFold\n"
   ]
  },
  {
   "cell_type": "markdown",
   "id": "2960f294",
   "metadata": {},
   "source": [
    "# 3. Data Preparation <a class=\"anchor\" id=\"data-preparation\"></a>"
   ]
  },
  {
   "cell_type": "code",
   "execution_count": 60,
   "id": "5065b14e",
   "metadata": {},
   "outputs": [
    {
     "data": {
      "text/html": [
       "<div>\n",
       "<style scoped>\n",
       "    .dataframe tbody tr th:only-of-type {\n",
       "        vertical-align: middle;\n",
       "    }\n",
       "\n",
       "    .dataframe tbody tr th {\n",
       "        vertical-align: top;\n",
       "    }\n",
       "\n",
       "    .dataframe thead th {\n",
       "        text-align: right;\n",
       "    }\n",
       "</style>\n",
       "<table border=\"1\" class=\"dataframe\">\n",
       "  <thead>\n",
       "    <tr style=\"text-align: right;\">\n",
       "      <th></th>\n",
       "      <th>hotel</th>\n",
       "      <th>is_canceled</th>\n",
       "      <th>lead_time</th>\n",
       "      <th>arrival_date_year</th>\n",
       "      <th>arrival_date_month</th>\n",
       "      <th>arrival_date_week_number</th>\n",
       "      <th>arrival_date_day_of_month</th>\n",
       "      <th>stays_in_weekend_nights</th>\n",
       "      <th>stays_in_week_nights</th>\n",
       "      <th>adults</th>\n",
       "      <th>...</th>\n",
       "      <th>assigned_room_type</th>\n",
       "      <th>booking_changes</th>\n",
       "      <th>deposit_type</th>\n",
       "      <th>agent</th>\n",
       "      <th>company</th>\n",
       "      <th>days_in_waiting_list</th>\n",
       "      <th>customer_type</th>\n",
       "      <th>adr</th>\n",
       "      <th>required_car_parking_spaces</th>\n",
       "      <th>total_of_special_requests</th>\n",
       "    </tr>\n",
       "  </thead>\n",
       "  <tbody>\n",
       "    <tr>\n",
       "      <th>119385</th>\n",
       "      <td>City Hotel</td>\n",
       "      <td>0</td>\n",
       "      <td>23</td>\n",
       "      <td>2017</td>\n",
       "      <td>August</td>\n",
       "      <td>35</td>\n",
       "      <td>30</td>\n",
       "      <td>2</td>\n",
       "      <td>5</td>\n",
       "      <td>2</td>\n",
       "      <td>...</td>\n",
       "      <td>A</td>\n",
       "      <td>0</td>\n",
       "      <td>No Deposit</td>\n",
       "      <td>394.0</td>\n",
       "      <td>NaN</td>\n",
       "      <td>0</td>\n",
       "      <td>Transient</td>\n",
       "      <td>96.14</td>\n",
       "      <td>0</td>\n",
       "      <td>0</td>\n",
       "    </tr>\n",
       "    <tr>\n",
       "      <th>119386</th>\n",
       "      <td>City Hotel</td>\n",
       "      <td>0</td>\n",
       "      <td>102</td>\n",
       "      <td>2017</td>\n",
       "      <td>August</td>\n",
       "      <td>35</td>\n",
       "      <td>31</td>\n",
       "      <td>2</td>\n",
       "      <td>5</td>\n",
       "      <td>3</td>\n",
       "      <td>...</td>\n",
       "      <td>E</td>\n",
       "      <td>0</td>\n",
       "      <td>No Deposit</td>\n",
       "      <td>9.0</td>\n",
       "      <td>NaN</td>\n",
       "      <td>0</td>\n",
       "      <td>Transient</td>\n",
       "      <td>225.43</td>\n",
       "      <td>0</td>\n",
       "      <td>2</td>\n",
       "    </tr>\n",
       "    <tr>\n",
       "      <th>119387</th>\n",
       "      <td>City Hotel</td>\n",
       "      <td>0</td>\n",
       "      <td>34</td>\n",
       "      <td>2017</td>\n",
       "      <td>August</td>\n",
       "      <td>35</td>\n",
       "      <td>31</td>\n",
       "      <td>2</td>\n",
       "      <td>5</td>\n",
       "      <td>2</td>\n",
       "      <td>...</td>\n",
       "      <td>D</td>\n",
       "      <td>0</td>\n",
       "      <td>No Deposit</td>\n",
       "      <td>9.0</td>\n",
       "      <td>NaN</td>\n",
       "      <td>0</td>\n",
       "      <td>Transient</td>\n",
       "      <td>157.71</td>\n",
       "      <td>0</td>\n",
       "      <td>4</td>\n",
       "    </tr>\n",
       "    <tr>\n",
       "      <th>119388</th>\n",
       "      <td>City Hotel</td>\n",
       "      <td>0</td>\n",
       "      <td>109</td>\n",
       "      <td>2017</td>\n",
       "      <td>August</td>\n",
       "      <td>35</td>\n",
       "      <td>31</td>\n",
       "      <td>2</td>\n",
       "      <td>5</td>\n",
       "      <td>2</td>\n",
       "      <td>...</td>\n",
       "      <td>A</td>\n",
       "      <td>0</td>\n",
       "      <td>No Deposit</td>\n",
       "      <td>89.0</td>\n",
       "      <td>NaN</td>\n",
       "      <td>0</td>\n",
       "      <td>Transient</td>\n",
       "      <td>104.40</td>\n",
       "      <td>0</td>\n",
       "      <td>0</td>\n",
       "    </tr>\n",
       "    <tr>\n",
       "      <th>119389</th>\n",
       "      <td>City Hotel</td>\n",
       "      <td>0</td>\n",
       "      <td>205</td>\n",
       "      <td>2017</td>\n",
       "      <td>August</td>\n",
       "      <td>35</td>\n",
       "      <td>29</td>\n",
       "      <td>2</td>\n",
       "      <td>7</td>\n",
       "      <td>2</td>\n",
       "      <td>...</td>\n",
       "      <td>A</td>\n",
       "      <td>0</td>\n",
       "      <td>No Deposit</td>\n",
       "      <td>9.0</td>\n",
       "      <td>NaN</td>\n",
       "      <td>0</td>\n",
       "      <td>Transient</td>\n",
       "      <td>151.20</td>\n",
       "      <td>0</td>\n",
       "      <td>2</td>\n",
       "    </tr>\n",
       "  </tbody>\n",
       "</table>\n",
       "<p>5 rows × 30 columns</p>\n",
       "</div>"
      ],
      "text/plain": [
       "             hotel  is_canceled  lead_time  arrival_date_year  \\\n",
       "119385  City Hotel            0         23               2017   \n",
       "119386  City Hotel            0        102               2017   \n",
       "119387  City Hotel            0         34               2017   \n",
       "119388  City Hotel            0        109               2017   \n",
       "119389  City Hotel            0        205               2017   \n",
       "\n",
       "       arrival_date_month  arrival_date_week_number  \\\n",
       "119385             August                        35   \n",
       "119386             August                        35   \n",
       "119387             August                        35   \n",
       "119388             August                        35   \n",
       "119389             August                        35   \n",
       "\n",
       "        arrival_date_day_of_month  stays_in_weekend_nights  \\\n",
       "119385                         30                        2   \n",
       "119386                         31                        2   \n",
       "119387                         31                        2   \n",
       "119388                         31                        2   \n",
       "119389                         29                        2   \n",
       "\n",
       "        stays_in_week_nights  adults  ...  assigned_room_type  \\\n",
       "119385                     5       2  ...                   A   \n",
       "119386                     5       3  ...                   E   \n",
       "119387                     5       2  ...                   D   \n",
       "119388                     5       2  ...                   A   \n",
       "119389                     7       2  ...                   A   \n",
       "\n",
       "        booking_changes deposit_type  agent company days_in_waiting_list  \\\n",
       "119385                0   No Deposit  394.0     NaN                    0   \n",
       "119386                0   No Deposit    9.0     NaN                    0   \n",
       "119387                0   No Deposit    9.0     NaN                    0   \n",
       "119388                0   No Deposit   89.0     NaN                    0   \n",
       "119389                0   No Deposit    9.0     NaN                    0   \n",
       "\n",
       "        customer_type     adr  required_car_parking_spaces  \\\n",
       "119385      Transient   96.14                            0   \n",
       "119386      Transient  225.43                            0   \n",
       "119387      Transient  157.71                            0   \n",
       "119388      Transient  104.40                            0   \n",
       "119389      Transient  151.20                            0   \n",
       "\n",
       "       total_of_special_requests  \n",
       "119385                         0  \n",
       "119386                         2  \n",
       "119387                         4  \n",
       "119388                         0  \n",
       "119389                         2  \n",
       "\n",
       "[5 rows x 30 columns]"
      ]
     },
     "execution_count": 60,
     "metadata": {},
     "output_type": "execute_result"
    }
   ],
   "source": [
    "\n",
    "#Once the libraries are imported, we need to load/read our real-life historical data on which the regression model is trained. \n",
    "#We do this with the help of our analytical library pandas. Pandas creates a 2-D data structure also known as dataframe for the purpose of easy understanding and viewing of our data\n",
    "df = pd.read_csv(\"hotel_bookings.csv\")\n",
    "#pd.set_option('max_columns', None)\n",
    "pd.options.display.max_columns\n",
    "df.tail()"
   ]
  },
  {
   "cell_type": "code",
   "execution_count": 61,
   "id": "a3772342",
   "metadata": {},
   "outputs": [
    {
     "name": "stdout",
     "output_type": "stream",
     "text": [
      "Number of records: 119390\n",
      "Number of records after dropping dupes: 119390\n",
      "<class 'pandas.core.frame.DataFrame'>\n",
      "RangeIndex: 119390 entries, 0 to 119389\n",
      "Data columns (total 30 columns):\n",
      " #   Column                          Non-Null Count   Dtype  \n",
      "---  ------                          --------------   -----  \n",
      " 0   hotel                           119390 non-null  object \n",
      " 1   is_canceled                     119390 non-null  int64  \n",
      " 2   lead_time                       119390 non-null  int64  \n",
      " 3   arrival_date_year               119390 non-null  int64  \n",
      " 4   arrival_date_month              119390 non-null  object \n",
      " 5   arrival_date_week_number        119390 non-null  int64  \n",
      " 6   arrival_date_day_of_month       119390 non-null  int64  \n",
      " 7   stays_in_weekend_nights         119390 non-null  int64  \n",
      " 8   stays_in_week_nights            119390 non-null  int64  \n",
      " 9   adults                          119390 non-null  int64  \n",
      " 10  children                        119386 non-null  float64\n",
      " 11  babies                          119390 non-null  int64  \n",
      " 12  meal                            119390 non-null  object \n",
      " 13  country                         118902 non-null  object \n",
      " 14  market_segment                  119390 non-null  object \n",
      " 15  distribution_channel            119390 non-null  object \n",
      " 16  is_repeated_guest               119390 non-null  int64  \n",
      " 17  previous_cancellations          119390 non-null  int64  \n",
      " 18  previous_bookings_not_canceled  119390 non-null  int64  \n",
      " 19  reserved_room_type              119390 non-null  object \n",
      " 20  assigned_room_type              119390 non-null  object \n",
      " 21  booking_changes                 119390 non-null  int64  \n",
      " 22  deposit_type                    119390 non-null  object \n",
      " 23  agent                           103050 non-null  float64\n",
      " 24  company                         6797 non-null    float64\n",
      " 25  days_in_waiting_list            119390 non-null  int64  \n",
      " 26  customer_type                   119390 non-null  object \n",
      " 27  adr                             119390 non-null  float64\n",
      " 28  required_car_parking_spaces     119390 non-null  int64  \n",
      " 29  total_of_special_requests       119390 non-null  int64  \n",
      "dtypes: float64(4), int64(16), object(10)\n",
      "memory usage: 27.3+ MB\n"
     ]
    },
    {
     "data": {
      "text/plain": [
       "hotel                                  0\n",
       "is_canceled                            0\n",
       "lead_time                              0\n",
       "arrival_date_year                      0\n",
       "arrival_date_month                     0\n",
       "arrival_date_week_number               0\n",
       "arrival_date_day_of_month              0\n",
       "stays_in_weekend_nights                0\n",
       "stays_in_week_nights                   0\n",
       "adults                                 0\n",
       "children                               4\n",
       "babies                                 0\n",
       "meal                                   0\n",
       "country                              488\n",
       "market_segment                         0\n",
       "distribution_channel                   0\n",
       "is_repeated_guest                      0\n",
       "previous_cancellations                 0\n",
       "previous_bookings_not_canceled         0\n",
       "reserved_room_type                     0\n",
       "assigned_room_type                     0\n",
       "booking_changes                        0\n",
       "deposit_type                           0\n",
       "agent                              16340\n",
       "company                           112593\n",
       "days_in_waiting_list                   0\n",
       "customer_type                          0\n",
       "adr                                    0\n",
       "required_car_parking_spaces            0\n",
       "total_of_special_requests              0\n",
       "dtype: int64"
      ]
     },
     "execution_count": 61,
     "metadata": {},
     "output_type": "execute_result"
    }
   ],
   "source": [
    "# Step 1: Check for duplicate records in our data to avoid redundancy.\n",
    "\n",
    "# remove duplicates\n",
    "print('Number of records:', len(df))\n",
    "df.drop_duplicates()\n",
    "print('Number of records after dropping dupes:', len(df))\n",
    "\n",
    "#Step 4\n",
    "#Check for kpis of our data\n",
    "df.info()\n",
    "df.isnull().sum()"
   ]
  },
  {
   "cell_type": "markdown",
   "id": "ef49b41b",
   "metadata": {},
   "source": [
    "<B>Notes</B>\n",
    "* We notice that columns children, country, agent and company have some null values we need to get rid of. <br>\n"
   ]
  },
  {
   "cell_type": "code",
   "execution_count": 62,
   "id": "161b14b8",
   "metadata": {},
   "outputs": [],
   "source": [
    "df.dropna(subset=['children'], how='all', inplace=True)   #dropping rows with null values in children column because its just 4 rows\n",
    "df['country'].fillna('PRT',inplace=True)                  #Filling out all the null values with the max value 'PRT'"
   ]
  },
  {
   "cell_type": "code",
   "execution_count": 63,
   "id": "a50761d7",
   "metadata": {},
   "outputs": [
    {
     "data": {
      "text/plain": [
       "<AxesSubplot:xlabel='is_canceled'>"
      ]
     },
     "execution_count": 63,
     "metadata": {},
     "output_type": "execute_result"
    },
    {
     "data": {
      "image/png": "[encoded data removed]",
      "text/plain": [
       "<Figure size 1080x576 with 1 Axes>"
      ]
     },
     "metadata": {},
     "output_type": "display_data"
    }
   ],
   "source": [
    "#Now, for agent and company lets first check whether do they have any relation with our target variable 'is_canceled'\n",
    "numerical_vars = ['is_canceled','agent','company'] \n",
    "a = df[numerical_vars].corr()[['is_canceled']].round(2)\n",
    "sns.set(rc= {'figure.figsize':(15,8)})\n",
    "sns.barplot(x=a.is_canceled[1:],y=a.index[1:],data=a, orient='h')"
   ]
  },
  {
   "cell_type": "markdown",
   "id": "1cbcc5b7",
   "metadata": {},
   "source": [
    "<B>Note</B>\n",
    "* Both agent and company have a negative relation and less that 0.2 which indicates they are not quite important features for our model. Hence, if we drop the null values it wont affect our model."
   ]
  },
  {
   "cell_type": "code",
   "execution_count": 64,
   "id": "16b25c35",
   "metadata": {},
   "outputs": [],
   "source": [
    "df.drop(['agent','company'],axis=1,inplace=True)\n",
    "df.reset_index(drop=True,inplace=True)\n"
   ]
  },
  {
   "cell_type": "code",
   "execution_count": 65,
   "id": "f7263abc",
   "metadata": {},
   "outputs": [],
   "source": [
    "#df.isnull().sum()   #To reensure we dont have any null values further"
   ]
  },
  {
   "cell_type": "markdown",
   "id": "2c6ba77d",
   "metadata": {},
   "source": [
    "<B>"
   ]
  },
  {
   "cell_type": "code",
   "execution_count": 66,
   "id": "76df7213",
   "metadata": {
    "scrolled": true
   },
   "outputs": [
    {
     "data": {
      "text/plain": [
       "is_canceled                       1.000000\n",
       "lead_time                         0.293177\n",
       "arrival_date_year                 0.016732\n",
       "arrival_date_week_number          0.008132\n",
       "arrival_date_day_of_month        -0.006084\n",
       "stays_in_weekend_nights          -0.001783\n",
       "stays_in_week_nights              0.024771\n",
       "adults                            0.059990\n",
       "children                          0.005048\n",
       "babies                           -0.032488\n",
       "is_repeated_guest                -0.084788\n",
       "previous_cancellations            0.110140\n",
       "previous_bookings_not_canceled   -0.057355\n",
       "booking_changes                  -0.144371\n",
       "days_in_waiting_list              0.054193\n",
       "adr                               0.047622\n",
       "required_car_parking_spaces      -0.195492\n",
       "total_of_special_requests        -0.234706\n",
       "Name: is_canceled, dtype: float64"
      ]
     },
     "execution_count": 66,
     "metadata": {},
     "output_type": "execute_result"
    }
   ],
   "source": [
    "#Let us now check which feature variables are highly correlated with our target variable\n",
    "corr= df.corr(method='pearson')['is_canceled'][:]\n",
    "corr"
   ]
  },
  {
   "cell_type": "markdown",
   "id": "10f06e14",
   "metadata": {},
   "source": [
    "<B>Note</B> <br>\n",
    "Important features: <br>\n",
    "1) Hotel : Type of hotel plays a big role in cancellation. Thus, I feel this feature is of importance for our model. <br>\n",
    "2) Lead time : More the difference between booking date and check-in date more likely to get canceled <br>\n",
    "3) Arrival date year : Year is important because sudden disease outbreak or any catastrophe can lead to major cancellations. <br>\n",
    "4) Stays in weekend nights : Weekend night stays are used to undestand number of cancellations happening during weekend. If yes, what could be the reason? Weekend is always considered feasible time for holidays then why are there cancellations happening during this period? <br>\n",
    "5) Stays in week nights : If there are cancellations during week nights despite being a holiday season, it is a matter of concern and a task for the hotel to inspect. <br>\n",
    "6) Repeated guests : Repeated guests are less likely to cancel, thus if there is a pattern of cancellation in them it is important for the authorities to look into it. <br>\n",
    "7) previous cancellations : Guests who have cancelled previously are likely to cancel bookings again. <br>\n",
    "8) Previous bookings not canceled : A percentage of previous bookings not canceled can give a rough idea of how likely a customer is to cancel in  future. <br>\n",
    "9) Day in waiting list : The more the number of days a customer is on waitlist is directly propotional to cancellation. <br>\n",
    "10) total_of_special_requests, required_car_parking_spaces : Both have a high negative correlation with our target variable\n",
    "\n",
    "Less important features : <br>\n",
    "1) Children and babies : More the number of children and babies involved, cancellations are more likely. Maybe because of school or medical conditions. <br>\n",
    "2) Country : The higher the economy, more will be the hotel prices. Budget friendly customers might switch to different hotels if they find more budget friendly hotels. <br>\n",
    "3) Market_segment : Online bookings have more cancellation rates than offline <br>\n",
    "4) Deposit_type : Non refundable deposits are less likely to be cancelled. <br>\n",
    "5) Agent and company : It is important to keep a track on agents since authorities need to check where major cancellations are coming from and what is the reason? <br>\n",
    "6) Booking changes : Above correlation displays a negative effect depicting more the number of changes less is the chance of cancellation. <br>\n",
    "\n",
    "Not important features: <br>\n",
    "1) Meal, arrival date week number, reserved_room_type, assigned_room_type, adults, Arrival date day of month <br>\n"
   ]
  },
  {
   "cell_type": "code",
   "execution_count": 67,
   "id": "76b679c7",
   "metadata": {},
   "outputs": [
    {
     "data": {
      "text/html": [
       "<div>\n",
       "<style scoped>\n",
       "    .dataframe tbody tr th:only-of-type {\n",
       "        vertical-align: middle;\n",
       "    }\n",
       "\n",
       "    .dataframe tbody tr th {\n",
       "        vertical-align: top;\n",
       "    }\n",
       "\n",
       "    .dataframe thead th {\n",
       "        text-align: right;\n",
       "    }\n",
       "</style>\n",
       "<table border=\"1\" class=\"dataframe\">\n",
       "  <thead>\n",
       "    <tr style=\"text-align: right;\">\n",
       "      <th></th>\n",
       "      <th>is_canceled</th>\n",
       "      <th>lead_time</th>\n",
       "      <th>arrival_date_year</th>\n",
       "      <th>arrival_date_week_number</th>\n",
       "      <th>arrival_date_day_of_month</th>\n",
       "      <th>stays_in_weekend_nights</th>\n",
       "      <th>stays_in_week_nights</th>\n",
       "      <th>adults</th>\n",
       "      <th>children</th>\n",
       "      <th>babies</th>\n",
       "      <th>is_repeated_guest</th>\n",
       "      <th>previous_cancellations</th>\n",
       "      <th>previous_bookings_not_canceled</th>\n",
       "      <th>booking_changes</th>\n",
       "      <th>days_in_waiting_list</th>\n",
       "      <th>adr</th>\n",
       "      <th>required_car_parking_spaces</th>\n",
       "      <th>total_of_special_requests</th>\n",
       "    </tr>\n",
       "  </thead>\n",
       "  <tbody>\n",
       "    <tr>\n",
       "      <th>count</th>\n",
       "      <td>119386.000000</td>\n",
       "      <td>119386.000000</td>\n",
       "      <td>119386.000000</td>\n",
       "      <td>119386.000000</td>\n",
       "      <td>119386.000000</td>\n",
       "      <td>119386.000000</td>\n",
       "      <td>119386.000000</td>\n",
       "      <td>119386.000000</td>\n",
       "      <td>119386.000000</td>\n",
       "      <td>119386.000000</td>\n",
       "      <td>119386.000000</td>\n",
       "      <td>119386.000000</td>\n",
       "      <td>119386.000000</td>\n",
       "      <td>119386.000000</td>\n",
       "      <td>119386.000000</td>\n",
       "      <td>119386.000000</td>\n",
       "      <td>119386.000000</td>\n",
       "      <td>119386.000000</td>\n",
       "    </tr>\n",
       "    <tr>\n",
       "      <th>mean</th>\n",
       "      <td>0.370395</td>\n",
       "      <td>104.014801</td>\n",
       "      <td>2016.156593</td>\n",
       "      <td>27.165003</td>\n",
       "      <td>15.798553</td>\n",
       "      <td>0.927605</td>\n",
       "      <td>2.500310</td>\n",
       "      <td>1.856390</td>\n",
       "      <td>0.103890</td>\n",
       "      <td>0.007949</td>\n",
       "      <td>0.031913</td>\n",
       "      <td>0.087121</td>\n",
       "      <td>0.137102</td>\n",
       "      <td>0.221131</td>\n",
       "      <td>2.321227</td>\n",
       "      <td>101.833541</td>\n",
       "      <td>0.062520</td>\n",
       "      <td>0.571340</td>\n",
       "    </tr>\n",
       "    <tr>\n",
       "      <th>std</th>\n",
       "      <td>0.482913</td>\n",
       "      <td>106.863286</td>\n",
       "      <td>0.707456</td>\n",
       "      <td>13.605334</td>\n",
       "      <td>8.780783</td>\n",
       "      <td>0.998618</td>\n",
       "      <td>1.908289</td>\n",
       "      <td>0.579261</td>\n",
       "      <td>0.398561</td>\n",
       "      <td>0.097438</td>\n",
       "      <td>0.175770</td>\n",
       "      <td>0.844350</td>\n",
       "      <td>1.497462</td>\n",
       "      <td>0.652315</td>\n",
       "      <td>17.595011</td>\n",
       "      <td>50.534664</td>\n",
       "      <td>0.245295</td>\n",
       "      <td>0.792798</td>\n",
       "    </tr>\n",
       "    <tr>\n",
       "      <th>min</th>\n",
       "      <td>0.000000</td>\n",
       "      <td>0.000000</td>\n",
       "      <td>2015.000000</td>\n",
       "      <td>1.000000</td>\n",
       "      <td>1.000000</td>\n",
       "      <td>0.000000</td>\n",
       "      <td>0.000000</td>\n",
       "      <td>0.000000</td>\n",
       "      <td>0.000000</td>\n",
       "      <td>0.000000</td>\n",
       "      <td>0.000000</td>\n",
       "      <td>0.000000</td>\n",
       "      <td>0.000000</td>\n",
       "      <td>0.000000</td>\n",
       "      <td>0.000000</td>\n",
       "      <td>-6.380000</td>\n",
       "      <td>0.000000</td>\n",
       "      <td>0.000000</td>\n",
       "    </tr>\n",
       "    <tr>\n",
       "      <th>25%</th>\n",
       "      <td>0.000000</td>\n",
       "      <td>18.000000</td>\n",
       "      <td>2016.000000</td>\n",
       "      <td>16.000000</td>\n",
       "      <td>8.000000</td>\n",
       "      <td>0.000000</td>\n",
       "      <td>1.000000</td>\n",
       "      <td>2.000000</td>\n",
       "      <td>0.000000</td>\n",
       "      <td>0.000000</td>\n",
       "      <td>0.000000</td>\n",
       "      <td>0.000000</td>\n",
       "      <td>0.000000</td>\n",
       "      <td>0.000000</td>\n",
       "      <td>0.000000</td>\n",
       "      <td>69.290000</td>\n",
       "      <td>0.000000</td>\n",
       "      <td>0.000000</td>\n",
       "    </tr>\n",
       "    <tr>\n",
       "      <th>50%</th>\n",
       "      <td>0.000000</td>\n",
       "      <td>69.000000</td>\n",
       "      <td>2016.000000</td>\n",
       "      <td>28.000000</td>\n",
       "      <td>16.000000</td>\n",
       "      <td>1.000000</td>\n",
       "      <td>2.000000</td>\n",
       "      <td>2.000000</td>\n",
       "      <td>0.000000</td>\n",
       "      <td>0.000000</td>\n",
       "      <td>0.000000</td>\n",
       "      <td>0.000000</td>\n",
       "      <td>0.000000</td>\n",
       "      <td>0.000000</td>\n",
       "      <td>0.000000</td>\n",
       "      <td>94.590000</td>\n",
       "      <td>0.000000</td>\n",
       "      <td>0.000000</td>\n",
       "    </tr>\n",
       "    <tr>\n",
       "      <th>75%</th>\n",
       "      <td>1.000000</td>\n",
       "      <td>160.000000</td>\n",
       "      <td>2017.000000</td>\n",
       "      <td>38.000000</td>\n",
       "      <td>23.000000</td>\n",
       "      <td>2.000000</td>\n",
       "      <td>3.000000</td>\n",
       "      <td>2.000000</td>\n",
       "      <td>0.000000</td>\n",
       "      <td>0.000000</td>\n",
       "      <td>0.000000</td>\n",
       "      <td>0.000000</td>\n",
       "      <td>0.000000</td>\n",
       "      <td>0.000000</td>\n",
       "      <td>0.000000</td>\n",
       "      <td>126.000000</td>\n",
       "      <td>0.000000</td>\n",
       "      <td>1.000000</td>\n",
       "    </tr>\n",
       "    <tr>\n",
       "      <th>max</th>\n",
       "      <td>1.000000</td>\n",
       "      <td>737.000000</td>\n",
       "      <td>2017.000000</td>\n",
       "      <td>53.000000</td>\n",
       "      <td>31.000000</td>\n",
       "      <td>19.000000</td>\n",
       "      <td>50.000000</td>\n",
       "      <td>55.000000</td>\n",
       "      <td>10.000000</td>\n",
       "      <td>10.000000</td>\n",
       "      <td>1.000000</td>\n",
       "      <td>26.000000</td>\n",
       "      <td>72.000000</td>\n",
       "      <td>21.000000</td>\n",
       "      <td>391.000000</td>\n",
       "      <td>5400.000000</td>\n",
       "      <td>8.000000</td>\n",
       "      <td>5.000000</td>\n",
       "    </tr>\n",
       "  </tbody>\n",
       "</table>\n",
       "</div>"
      ],
      "text/plain": [
       "         is_canceled      lead_time  arrival_date_year  \\\n",
       "count  119386.000000  119386.000000      119386.000000   \n",
       "mean        0.370395     104.014801        2016.156593   \n",
       "std         0.482913     106.863286           0.707456   \n",
       "min         0.000000       0.000000        2015.000000   \n",
       "25%         0.000000      18.000000        2016.000000   \n",
       "50%         0.000000      69.000000        2016.000000   \n",
       "75%         1.000000     160.000000        2017.000000   \n",
       "max         1.000000     737.000000        2017.000000   \n",
       "\n",
       "       arrival_date_week_number  arrival_date_day_of_month  \\\n",
       "count             119386.000000              119386.000000   \n",
       "mean                  27.165003                  15.798553   \n",
       "std                   13.605334                   8.780783   \n",
       "min                    1.000000                   1.000000   \n",
       "25%                   16.000000                   8.000000   \n",
       "50%                   28.000000                  16.000000   \n",
       "75%                   38.000000                  23.000000   \n",
       "max                   53.000000                  31.000000   \n",
       "\n",
       "       stays_in_weekend_nights  stays_in_week_nights         adults  \\\n",
       "count            119386.000000         119386.000000  119386.000000   \n",
       "mean                  0.927605              2.500310       1.856390   \n",
       "std                   0.998618              1.908289       0.579261   \n",
       "min                   0.000000              0.000000       0.000000   \n",
       "25%                   0.000000              1.000000       2.000000   \n",
       "50%                   1.000000              2.000000       2.000000   \n",
       "75%                   2.000000              3.000000       2.000000   \n",
       "max                  19.000000             50.000000      55.000000   \n",
       "\n",
       "            children         babies  is_repeated_guest  \\\n",
       "count  119386.000000  119386.000000      119386.000000   \n",
       "mean        0.103890       0.007949           0.031913   \n",
       "std         0.398561       0.097438           0.175770   \n",
       "min         0.000000       0.000000           0.000000   \n",
       "25%         0.000000       0.000000           0.000000   \n",
       "50%         0.000000       0.000000           0.000000   \n",
       "75%         0.000000       0.000000           0.000000   \n",
       "max        10.000000      10.000000           1.000000   \n",
       "\n",
       "       previous_cancellations  previous_bookings_not_canceled  \\\n",
       "count           119386.000000                   119386.000000   \n",
       "mean                 0.087121                        0.137102   \n",
       "std                  0.844350                        1.497462   \n",
       "min                  0.000000                        0.000000   \n",
       "25%                  0.000000                        0.000000   \n",
       "50%                  0.000000                        0.000000   \n",
       "75%                  0.000000                        0.000000   \n",
       "max                 26.000000                       72.000000   \n",
       "\n",
       "       booking_changes  days_in_waiting_list            adr  \\\n",
       "count    119386.000000         119386.000000  119386.000000   \n",
       "mean          0.221131              2.321227     101.833541   \n",
       "std           0.652315             17.595011      50.534664   \n",
       "min           0.000000              0.000000      -6.380000   \n",
       "25%           0.000000              0.000000      69.290000   \n",
       "50%           0.000000              0.000000      94.590000   \n",
       "75%           0.000000              0.000000     126.000000   \n",
       "max          21.000000            391.000000    5400.000000   \n",
       "\n",
       "       required_car_parking_spaces  total_of_special_requests  \n",
       "count                119386.000000              119386.000000  \n",
       "mean                      0.062520                   0.571340  \n",
       "std                       0.245295                   0.792798  \n",
       "min                       0.000000                   0.000000  \n",
       "25%                       0.000000                   0.000000  \n",
       "50%                       0.000000                   0.000000  \n",
       "75%                       0.000000                   1.000000  \n",
       "max                       8.000000                   5.000000  "
      ]
     },
     "execution_count": 67,
     "metadata": {},
     "output_type": "execute_result"
    }
   ],
   "source": [
    "#Next step is to check for any outliers present in our data\n",
    "df.describe()"
   ]
  },
  {
   "cell_type": "markdown",
   "id": "f5f71b82",
   "metadata": {},
   "source": [
    "<B>Outlier Detection and Treatment</B>"
   ]
  },
  {
   "cell_type": "markdown",
   "id": "f0d3ab7d",
   "metadata": {},
   "source": [
    "<B>Note</B>\n",
    "Columns below might have a possibility of having outliers, since the max value is more than 2 Standard deviation away from mean <br>\n",
    "1) Lead Time <br>\n",
    "2) previous_bookings_not_canceled <br>\n",
    "3) days_in_waiting_list <br>\n",
    "Thus, we now plot the above columns to check for outliers"
   ]
  },
  {
   "cell_type": "code",
   "execution_count": 68,
   "id": "27255c16",
   "metadata": {},
   "outputs": [
    {
     "name": "stderr",
     "output_type": "stream",
     "text": [
      "C:\\Users\\dmmehta3\\Anaconda3\\lib\\site-packages\\seaborn\\_decorators.py:36: FutureWarning: Pass the following variable as a keyword arg: x. From version 0.12, the only valid positional argument will be `data`, and passing other arguments without an explicit keyword will result in an error or misinterpretation.\n",
      "  warnings.warn(\n"
     ]
    },
    {
     "data": {
      "image/png": "[encoded data removed]",
      "text/plain": [
       "<Figure size 720x288 with 1 Axes>"
      ]
     },
     "metadata": {},
     "output_type": "display_data"
    },
    {
     "name": "stderr",
     "output_type": "stream",
     "text": [
      "C:\\Users\\dmmehta3\\Anaconda3\\lib\\site-packages\\seaborn\\_decorators.py:36: FutureWarning: Pass the following variable as a keyword arg: x. From version 0.12, the only valid positional argument will be `data`, and passing other arguments without an explicit keyword will result in an error or misinterpretation.\n",
      "  warnings.warn(\n"
     ]
    },
    {
     "data": {
      "image/png": "[encoded data removed]",
      "text/plain": [
       "<Figure size 720x288 with 1 Axes>"
      ]
     },
     "metadata": {},
     "output_type": "display_data"
    },
    {
     "name": "stderr",
     "output_type": "stream",
     "text": [
      "C:\\Users\\dmmehta3\\Anaconda3\\lib\\site-packages\\seaborn\\_decorators.py:36: FutureWarning: Pass the following variable as a keyword arg: x. From version 0.12, the only valid positional argument will be `data`, and passing other arguments without an explicit keyword will result in an error or misinterpretation.\n",
      "  warnings.warn(\n"
     ]
    },
    {
     "data": {
      "image/png": "[encoded data removed]",
      "text/plain": [
       "<Figure size 720x288 with 1 Axes>"
      ]
     },
     "metadata": {},
     "output_type": "display_data"
    }
   ],
   "source": [
    "plt.figure(figsize=(10,4))\n",
    "sns.boxplot(df['lead_time'])\n",
    "plt.show()\n",
    "\n",
    "plt.figure(figsize=(10,4))\n",
    "sns.boxplot(df['previous_bookings_not_canceled'])\n",
    "plt.show()\n",
    "    \n",
    "plt.figure(figsize=(10,4))\n",
    "sns.boxplot(df['days_in_waiting_list'])\n",
    "plt.show()\n",
    "\n",
    "\n",
    "\n",
    "\n"
   ]
  },
  {
   "cell_type": "code",
   "execution_count": 69,
   "id": "72d8c9be",
   "metadata": {},
   "outputs": [],
   "source": [
    "#We see that there are particular values in lead time which are beyond 650 and act as outliers. So we drop these values\n",
    "df.drop(df[df['lead_time'] > 650].index, inplace = True )\n",
    "\n",
    "#Similar is the case with days in waiting list which has some values greater than 300\n",
    "df.drop(df[df['days_in_waiting_list'] > 300].index, inplace = True )\n",
    "df.reset_index(drop=True,inplace=True)\n"
   ]
  },
  {
   "cell_type": "code",
   "execution_count": 70,
   "id": "1f1ed46a",
   "metadata": {},
   "outputs": [
    {
     "name": "stderr",
     "output_type": "stream",
     "text": [
      "C:\\Users\\dmmehta3\\Anaconda3\\lib\\site-packages\\seaborn\\_decorators.py:36: FutureWarning: Pass the following variable as a keyword arg: x. From version 0.12, the only valid positional argument will be `data`, and passing other arguments without an explicit keyword will result in an error or misinterpretation.\n",
      "  warnings.warn(\n"
     ]
    },
    {
     "data": {
      "image/png": "[encoded data removed]",
      "text/plain": [
       "<Figure size 720x288 with 1 Axes>"
      ]
     },
     "metadata": {},
     "output_type": "display_data"
    },
    {
     "name": "stderr",
     "output_type": "stream",
     "text": [
      "C:\\Users\\dmmehta3\\Anaconda3\\lib\\site-packages\\seaborn\\_decorators.py:36: FutureWarning: Pass the following variable as a keyword arg: x. From version 0.12, the only valid positional argument will be `data`, and passing other arguments without an explicit keyword will result in an error or misinterpretation.\n",
      "  warnings.warn(\n"
     ]
    },
    {
     "data": {
      "image/png": "[encoded data removed]",
      "text/plain": [
       "<Figure size 720x288 with 1 Axes>"
      ]
     },
     "metadata": {},
     "output_type": "display_data"
    }
   ],
   "source": [
    "plt.figure(figsize=(10,4))\n",
    "sns.boxplot(df['lead_time'])\n",
    "plt.show()\n",
    "plt.figure(figsize=(10,4))\n",
    "sns.boxplot(df['days_in_waiting_list'])\n",
    "plt.show()"
   ]
  },
  {
   "cell_type": "markdown",
   "id": "cdbc37a6",
   "metadata": {},
   "source": [
    "<B>Visualization</B>"
   ]
  },
  {
   "cell_type": "code",
   "execution_count": 71,
   "id": "4e298d54",
   "metadata": {},
   "outputs": [
    {
     "data": {
      "text/plain": [
       "<AxesSubplot:xlabel='hotel', ylabel='count'>"
      ]
     },
     "execution_count": 71,
     "metadata": {},
     "output_type": "execute_result"
    },
    {
     "data": {
      "image/png": "[encoded data removed]",
      "text/plain": [
       "<Figure size 1080x576 with 1 Axes>"
      ]
     },
     "metadata": {},
     "output_type": "display_data"
    }
   ],
   "source": [
    "#1) Let us visualize hotel first, our assumption is City hotels have more cancellation rates.\n",
    "sns.countplot(data=df, x='hotel', hue='is_canceled')"
   ]
  },
  {
   "cell_type": "code",
   "execution_count": 72,
   "id": "8bcfd82b",
   "metadata": {},
   "outputs": [],
   "source": [
    "#Our assumption is correct"
   ]
  },
  {
   "cell_type": "code",
   "execution_count": 73,
   "id": "18ef049f",
   "metadata": {},
   "outputs": [
    {
     "data": {
      "image/png": "[encoded data removed]",
      "text/plain": [
       "<Figure size 936x720 with 1 Axes>"
      ]
     },
     "metadata": {},
     "output_type": "display_data"
    }
   ],
   "source": [
    "#2) Our next assumption is, to check cancellations by year since some situations like pandemic, natural disaster, manmade disasters can lead to cancellations\n",
    "plt.figure(figsize = (13,10))\n",
    "sns.set(style = \"darkgrid\")\n",
    "plt.title(\"Booking Cancellation by Segments\", fontdict = {'fontsize':20})\n",
    "ax = sns.countplot(x = \"arrival_date_year\", hue = 'is_canceled', data = df)"
   ]
  },
  {
   "cell_type": "markdown",
   "id": "750e3ed0",
   "metadata": {},
   "source": [
    "<B>Year 2016 has major cancellations</B>"
   ]
  },
  {
   "cell_type": "code",
   "execution_count": 74,
   "id": "22209081",
   "metadata": {},
   "outputs": [
    {
     "data": {
      "text/plain": [
       "<seaborn.axisgrid.FacetGrid at 0x1bc84eae5b0>"
      ]
     },
     "execution_count": 74,
     "metadata": {},
     "output_type": "execute_result"
    },
    {
     "data": {
      "image/png": "[encoded data removed]",
      "text/plain": [
       "<Figure size 440.8x216 with 2 Axes>"
      ]
     },
     "metadata": {},
     "output_type": "display_data"
    }
   ],
   "source": [
    "#Our assumption is the more the lead time the more is the cancellation rate\n",
    "grid = sns.FacetGrid(df, col='is_canceled')\n",
    "grid.map(plt.hist, 'lead_time', width=50)\n",
    "grid.add_legend()"
   ]
  },
  {
   "cell_type": "code",
   "execution_count": 76,
   "id": "bc126867",
   "metadata": {},
   "outputs": [
    {
     "name": "stderr",
     "output_type": "stream",
     "text": [
      "C:\\Users\\dmmehta3\\Anaconda3\\lib\\site-packages\\seaborn\\axisgrid.py:670: UserWarning: Using the countplot function without specifying `order` is likely to produce an incorrect plot.\n",
      "  warnings.warn(warning)\n"
     ]
    },
    {
     "data": {
      "text/plain": [
       "<seaborn.axisgrid.FacetGrid at 0x1bccd4c3e50>"
      ]
     },
     "execution_count": 76,
     "metadata": {},
     "output_type": "execute_result"
    },
    {
     "data": {
      "image/png": "[encoded data removed]",
      "text/plain": [
       "<Figure size 648x216 with 3 Axes>"
      ]
     },
     "metadata": {},
     "output_type": "display_data"
    }
   ],
   "source": [
    "#Assumption To check which year, which hotel type has cancellation rate. \n",
    "grid = sns.FacetGrid(df, col='arrival_date_year', hue = 'is_canceled')\n",
    "grid.map(sns.countplot, 'hotel')"
   ]
  },
  {
   "cell_type": "code",
   "execution_count": 20,
   "id": "f27cdd25",
   "metadata": {},
   "outputs": [
    {
     "data": {
      "image/png": "[encoded data removed]",
      "text/plain": [
       "<Figure size 1080x576 with 1 Axes>"
      ]
     },
     "metadata": {},
     "output_type": "display_data"
    }
   ],
   "source": [
    "#Analyzing the market segment which has maximum cancellation\n",
    "sns.countplot(x=\"market_segment\", hue=\"is_canceled\",data=df);"
   ]
  },
  {
   "cell_type": "code",
   "execution_count": 21,
   "id": "0f670a17",
   "metadata": {
    "scrolled": true
   },
   "outputs": [
    {
     "data": {
      "image/png": "[encoded data removed]",
      "text/plain": [
       "<Figure size 936x720 with 1 Axes>"
      ]
     },
     "metadata": {},
     "output_type": "display_data"
    }
   ],
   "source": [
    "#Visualizing cancellation rates with respect to month\n",
    "month_sorted = ['January','February','March','April','May','June','July','August','September','October','November','December']\n",
    "plt.figure(figsize = (13,10))\n",
    "sns.set(style=\"dark\")\n",
    "plt.title(\"No. of Cancellation -- Monthly \", fontdict={'fontsize': 20})\n",
    "sns.barplot(x = 'arrival_date_month', y = 'is_canceled', data = df, order = month_sorted);"
   ]
  },
  {
   "cell_type": "code",
   "execution_count": 22,
   "id": "dafb7f84",
   "metadata": {
    "scrolled": false
   },
   "outputs": [
    {
     "name": "stdout",
     "output_type": "stream",
     "text": [
      "previous_cancellations  is_canceled\n",
      "0                       0              74602\n",
      "                        1              38223\n",
      "1                       0                337\n",
      "                        1               5714\n",
      "2                       0                 78\n",
      "                        1                 38\n",
      "3                       0                 45\n",
      "                        1                 20\n",
      "4                       0                 24\n",
      "                        1                  7\n",
      "5                       0                 17\n",
      "                        1                  2\n",
      "6                       0                 15\n",
      "                        1                  7\n",
      "11                      0                 25\n",
      "                        1                 10\n",
      "13                      0                  1\n",
      "                        1                 11\n",
      "14                      1                 14\n",
      "19                      1                 19\n",
      "21                      1                  1\n",
      "24                      1                 48\n",
      "25                      1                 25\n",
      "26                      1                 26\n",
      "dtype: int64\n"
     ]
    }
   ],
   "source": [
    "#Assumption: Previously canceled customers are more likely to cancel the bookings. Thus, this is an important feature which can be used in our model \n",
    "print(df.groupby(['previous_cancellations', 'is_canceled']).size())"
   ]
  },
  {
   "cell_type": "markdown",
   "id": "a012e786",
   "metadata": {},
   "source": [
    "### Handling categorical values"
   ]
  },
  {
   "cell_type": "code",
   "execution_count": 24,
   "id": "5cf182f8",
   "metadata": {},
   "outputs": [
    {
     "data": {
      "text/plain": [
       "PRT    49018\n",
       "GBR    12128\n",
       "FRA    10395\n",
       "ESP     8568\n",
       "DEU     7287\n",
       "       ...  \n",
       "DJI        1\n",
       "BWA        1\n",
       "HND        1\n",
       "VGB        1\n",
       "NAM        1\n",
       "Name: country, Length: 177, dtype: int64"
      ]
     },
     "execution_count": 24,
     "metadata": {},
     "output_type": "execute_result"
    }
   ],
   "source": [
    "\n",
    "df.country.value_counts()"
   ]
  },
  {
   "cell_type": "code",
   "execution_count": 25,
   "id": "ea428197",
   "metadata": {},
   "outputs": [],
   "source": [
    "#Grouping the countries into 6 major categories depending on count\n",
    "for i in range(len(df)):\n",
    "    if df.loc[i, 'country'] == 'PRT':\n",
    "        df.at[i, 'country'] = 'PRT'\n",
    "    elif df.loc[i, 'country'] == 'GBR':\n",
    "        df.at[i, 'country'] = 'GBR'\n",
    "    elif df.loc[i, 'country'] == 'FRA':\n",
    "        df.at[i, 'country'] = 'FRA'\n",
    "    elif df.loc[i, 'country'] == 'ESP':\n",
    "        df.at[i, 'country'] = 'ESP'\n",
    "    elif df.loc[i, 'country'] == 'DEU':\n",
    "        df.at[i, 'country'] = 'DEU'\n",
    "    else :\n",
    "        df.at[i, 'country'] = 'Other'"
   ]
  },
  {
   "cell_type": "code",
   "execution_count": 26,
   "id": "5164531e",
   "metadata": {},
   "outputs": [
    {
     "data": {
      "text/plain": [
       "PRT      49018\n",
       "Other    31913\n",
       "GBR      12128\n",
       "FRA      10395\n",
       "ESP       8568\n",
       "DEU       7287\n",
       "Name: country, dtype: int64"
      ]
     },
     "execution_count": 26,
     "metadata": {},
     "output_type": "execute_result"
    }
   ],
   "source": [
    "df.country.value_counts()"
   ]
  },
  {
   "cell_type": "code",
   "execution_count": 27,
   "id": "611ad7bf",
   "metadata": {},
   "outputs": [],
   "source": [
    "lb = LabelEncoder()\n",
    "var = ['hotel', 'customer_type', 'deposit_type', 'market_segment', 'country']\n",
    "for item in var:\n",
    "    df[item] = lb.fit_transform(df[item])\n",
    "df = pd.get_dummies(df, columns=['hotel', 'customer_type', 'deposit_type',  'market_segment', 'distribution_channel', 'country'])"
   ]
  },
  {
   "cell_type": "code",
   "execution_count": 28,
   "id": "6c5269a2",
   "metadata": {},
   "outputs": [
    {
     "data": {
      "text/html": [
       "<div>\n",
       "<style scoped>\n",
       "    .dataframe tbody tr th:only-of-type {\n",
       "        vertical-align: middle;\n",
       "    }\n",
       "\n",
       "    .dataframe tbody tr th {\n",
       "        vertical-align: top;\n",
       "    }\n",
       "\n",
       "    .dataframe thead th {\n",
       "        text-align: right;\n",
       "    }\n",
       "</style>\n",
       "<table border=\"1\" class=\"dataframe\">\n",
       "  <thead>\n",
       "    <tr style=\"text-align: right;\">\n",
       "      <th></th>\n",
       "      <th>is_canceled</th>\n",
       "      <th>lead_time</th>\n",
       "      <th>arrival_date_year</th>\n",
       "      <th>arrival_date_month</th>\n",
       "      <th>arrival_date_week_number</th>\n",
       "      <th>arrival_date_day_of_month</th>\n",
       "      <th>stays_in_weekend_nights</th>\n",
       "      <th>stays_in_week_nights</th>\n",
       "      <th>adults</th>\n",
       "      <th>children</th>\n",
       "      <th>...</th>\n",
       "      <th>distribution_channel_Direct</th>\n",
       "      <th>distribution_channel_GDS</th>\n",
       "      <th>distribution_channel_TA/TO</th>\n",
       "      <th>distribution_channel_Undefined</th>\n",
       "      <th>country_0</th>\n",
       "      <th>country_1</th>\n",
       "      <th>country_2</th>\n",
       "      <th>country_3</th>\n",
       "      <th>country_4</th>\n",
       "      <th>country_5</th>\n",
       "    </tr>\n",
       "  </thead>\n",
       "  <tbody>\n",
       "    <tr>\n",
       "      <th>0</th>\n",
       "      <td>0</td>\n",
       "      <td>342</td>\n",
       "      <td>2015</td>\n",
       "      <td>July</td>\n",
       "      <td>27</td>\n",
       "      <td>1</td>\n",
       "      <td>0</td>\n",
       "      <td>0</td>\n",
       "      <td>2</td>\n",
       "      <td>0.0</td>\n",
       "      <td>...</td>\n",
       "      <td>1</td>\n",
       "      <td>0</td>\n",
       "      <td>0</td>\n",
       "      <td>0</td>\n",
       "      <td>0</td>\n",
       "      <td>0</td>\n",
       "      <td>0</td>\n",
       "      <td>0</td>\n",
       "      <td>0</td>\n",
       "      <td>1</td>\n",
       "    </tr>\n",
       "    <tr>\n",
       "      <th>1</th>\n",
       "      <td>0</td>\n",
       "      <td>7</td>\n",
       "      <td>2015</td>\n",
       "      <td>July</td>\n",
       "      <td>27</td>\n",
       "      <td>1</td>\n",
       "      <td>0</td>\n",
       "      <td>1</td>\n",
       "      <td>1</td>\n",
       "      <td>0.0</td>\n",
       "      <td>...</td>\n",
       "      <td>1</td>\n",
       "      <td>0</td>\n",
       "      <td>0</td>\n",
       "      <td>0</td>\n",
       "      <td>0</td>\n",
       "      <td>0</td>\n",
       "      <td>0</td>\n",
       "      <td>1</td>\n",
       "      <td>0</td>\n",
       "      <td>0</td>\n",
       "    </tr>\n",
       "    <tr>\n",
       "      <th>2</th>\n",
       "      <td>0</td>\n",
       "      <td>13</td>\n",
       "      <td>2015</td>\n",
       "      <td>July</td>\n",
       "      <td>27</td>\n",
       "      <td>1</td>\n",
       "      <td>0</td>\n",
       "      <td>1</td>\n",
       "      <td>1</td>\n",
       "      <td>0.0</td>\n",
       "      <td>...</td>\n",
       "      <td>0</td>\n",
       "      <td>0</td>\n",
       "      <td>0</td>\n",
       "      <td>0</td>\n",
       "      <td>0</td>\n",
       "      <td>0</td>\n",
       "      <td>0</td>\n",
       "      <td>1</td>\n",
       "      <td>0</td>\n",
       "      <td>0</td>\n",
       "    </tr>\n",
       "    <tr>\n",
       "      <th>3</th>\n",
       "      <td>0</td>\n",
       "      <td>14</td>\n",
       "      <td>2015</td>\n",
       "      <td>July</td>\n",
       "      <td>27</td>\n",
       "      <td>1</td>\n",
       "      <td>0</td>\n",
       "      <td>2</td>\n",
       "      <td>2</td>\n",
       "      <td>0.0</td>\n",
       "      <td>...</td>\n",
       "      <td>0</td>\n",
       "      <td>0</td>\n",
       "      <td>1</td>\n",
       "      <td>0</td>\n",
       "      <td>0</td>\n",
       "      <td>0</td>\n",
       "      <td>0</td>\n",
       "      <td>1</td>\n",
       "      <td>0</td>\n",
       "      <td>0</td>\n",
       "    </tr>\n",
       "    <tr>\n",
       "      <th>4</th>\n",
       "      <td>0</td>\n",
       "      <td>14</td>\n",
       "      <td>2015</td>\n",
       "      <td>July</td>\n",
       "      <td>27</td>\n",
       "      <td>1</td>\n",
       "      <td>0</td>\n",
       "      <td>2</td>\n",
       "      <td>2</td>\n",
       "      <td>0.0</td>\n",
       "      <td>...</td>\n",
       "      <td>0</td>\n",
       "      <td>0</td>\n",
       "      <td>1</td>\n",
       "      <td>0</td>\n",
       "      <td>0</td>\n",
       "      <td>0</td>\n",
       "      <td>0</td>\n",
       "      <td>1</td>\n",
       "      <td>0</td>\n",
       "      <td>0</td>\n",
       "    </tr>\n",
       "  </tbody>\n",
       "</table>\n",
       "<p>5 rows × 50 columns</p>\n",
       "</div>"
      ],
      "text/plain": [
       "   is_canceled  lead_time  arrival_date_year arrival_date_month  \\\n",
       "0            0        342               2015               July   \n",
       "1            0          7               2015               July   \n",
       "2            0         13               2015               July   \n",
       "3            0         14               2015               July   \n",
       "4            0         14               2015               July   \n",
       "\n",
       "   arrival_date_week_number  arrival_date_day_of_month  \\\n",
       "0                        27                          1   \n",
       "1                        27                          1   \n",
       "2                        27                          1   \n",
       "3                        27                          1   \n",
       "4                        27                          1   \n",
       "\n",
       "   stays_in_weekend_nights  stays_in_week_nights  adults  children  ...  \\\n",
       "0                        0                     0       2       0.0  ...   \n",
       "1                        0                     1       1       0.0  ...   \n",
       "2                        0                     1       1       0.0  ...   \n",
       "3                        0                     2       2       0.0  ...   \n",
       "4                        0                     2       2       0.0  ...   \n",
       "\n",
       "   distribution_channel_Direct distribution_channel_GDS  \\\n",
       "0                            1                        0   \n",
       "1                            1                        0   \n",
       "2                            0                        0   \n",
       "3                            0                        0   \n",
       "4                            0                        0   \n",
       "\n",
       "   distribution_channel_TA/TO  distribution_channel_Undefined  country_0  \\\n",
       "0                           0                               0          0   \n",
       "1                           0                               0          0   \n",
       "2                           0                               0          0   \n",
       "3                           1                               0          0   \n",
       "4                           1                               0          0   \n",
       "\n",
       "  country_1 country_2  country_3  country_4  country_5  \n",
       "0         0         0          0          0          1  \n",
       "1         0         0          1          0          0  \n",
       "2         0         0          1          0          0  \n",
       "3         0         0          1          0          0  \n",
       "4         0         0          1          0          0  \n",
       "\n",
       "[5 rows x 50 columns]"
      ]
     },
     "execution_count": 28,
     "metadata": {},
     "output_type": "execute_result"
    }
   ],
   "source": [
    "\n",
    "df.head()\n"
   ]
  },
  {
   "cell_type": "code",
   "execution_count": 29,
   "id": "3f001d57",
   "metadata": {},
   "outputs": [
    {
     "name": "stdout",
     "output_type": "stream",
     "text": [
      "<class 'pandas.core.frame.DataFrame'>\n",
      "RangeIndex: 119309 entries, 0 to 119308\n",
      "Data columns (total 50 columns):\n",
      " #   Column                          Non-Null Count   Dtype  \n",
      "---  ------                          --------------   -----  \n",
      " 0   is_canceled                     119309 non-null  int64  \n",
      " 1   lead_time                       119309 non-null  int64  \n",
      " 2   arrival_date_year               119309 non-null  int64  \n",
      " 3   arrival_date_month              119309 non-null  object \n",
      " 4   arrival_date_week_number        119309 non-null  int64  \n",
      " 5   arrival_date_day_of_month       119309 non-null  int64  \n",
      " 6   stays_in_weekend_nights         119309 non-null  int64  \n",
      " 7   stays_in_week_nights            119309 non-null  int64  \n",
      " 8   adults                          119309 non-null  int64  \n",
      " 9   children                        119309 non-null  float64\n",
      " 10  babies                          119309 non-null  int64  \n",
      " 11  meal                            119309 non-null  object \n",
      " 12  is_repeated_guest               119309 non-null  int64  \n",
      " 13  previous_cancellations          119309 non-null  int64  \n",
      " 14  previous_bookings_not_canceled  119309 non-null  int64  \n",
      " 15  reserved_room_type              119309 non-null  object \n",
      " 16  assigned_room_type              119309 non-null  object \n",
      " 17  booking_changes                 119309 non-null  int64  \n",
      " 18  days_in_waiting_list            119309 non-null  int64  \n",
      " 19  adr                             119309 non-null  float64\n",
      " 20  required_car_parking_spaces     119309 non-null  int64  \n",
      " 21  total_of_special_requests       119309 non-null  int64  \n",
      " 22  date_of_arrival                 119309 non-null  object \n",
      " 23  hotel_0                         119309 non-null  uint8  \n",
      " 24  hotel_1                         119309 non-null  uint8  \n",
      " 25  customer_type_0                 119309 non-null  uint8  \n",
      " 26  customer_type_1                 119309 non-null  uint8  \n",
      " 27  customer_type_2                 119309 non-null  uint8  \n",
      " 28  customer_type_3                 119309 non-null  uint8  \n",
      " 29  deposit_type_0                  119309 non-null  uint8  \n",
      " 30  deposit_type_1                  119309 non-null  uint8  \n",
      " 31  deposit_type_2                  119309 non-null  uint8  \n",
      " 32  market_segment_0                119309 non-null  uint8  \n",
      " 33  market_segment_1                119309 non-null  uint8  \n",
      " 34  market_segment_2                119309 non-null  uint8  \n",
      " 35  market_segment_3                119309 non-null  uint8  \n",
      " 36  market_segment_4                119309 non-null  uint8  \n",
      " 37  market_segment_5                119309 non-null  uint8  \n",
      " 38  market_segment_6                119309 non-null  uint8  \n",
      " 39  distribution_channel_Corporate  119309 non-null  uint8  \n",
      " 40  distribution_channel_Direct     119309 non-null  uint8  \n",
      " 41  distribution_channel_GDS        119309 non-null  uint8  \n",
      " 42  distribution_channel_TA/TO      119309 non-null  uint8  \n",
      " 43  distribution_channel_Undefined  119309 non-null  uint8  \n",
      " 44  country_0                       119309 non-null  uint8  \n",
      " 45  country_1                       119309 non-null  uint8  \n",
      " 46  country_2                       119309 non-null  uint8  \n",
      " 47  country_3                       119309 non-null  uint8  \n",
      " 48  country_4                       119309 non-null  uint8  \n",
      " 49  country_5                       119309 non-null  uint8  \n",
      "dtypes: float64(2), int64(16), object(5), uint8(27)\n",
      "memory usage: 24.0+ MB\n"
     ]
    }
   ],
   "source": [
    "df.info()"
   ]
  },
  {
   "cell_type": "code",
   "execution_count": 30,
   "id": "da15228f",
   "metadata": {},
   "outputs": [],
   "source": [
    "df.drop(['meal','arrival_date_month','reserved_room_type','assigned_room_type','arrival_date_week_number' ,'arrival_date_day_of_month', 'adults' ],axis=1,inplace=True)"
   ]
  },
  {
   "cell_type": "code",
   "execution_count": 31,
   "id": "455a283a",
   "metadata": {},
   "outputs": [
    {
     "name": "stdout",
     "output_type": "stream",
     "text": [
      "<class 'pandas.core.frame.DataFrame'>\n",
      "RangeIndex: 119309 entries, 0 to 119308\n",
      "Data columns (total 43 columns):\n",
      " #   Column                          Non-Null Count   Dtype  \n",
      "---  ------                          --------------   -----  \n",
      " 0   is_canceled                     119309 non-null  int64  \n",
      " 1   lead_time                       119309 non-null  int64  \n",
      " 2   arrival_date_year               119309 non-null  int64  \n",
      " 3   stays_in_weekend_nights         119309 non-null  int64  \n",
      " 4   stays_in_week_nights            119309 non-null  int64  \n",
      " 5   adults                          119309 non-null  int64  \n",
      " 6   children                        119309 non-null  float64\n",
      " 7   babies                          119309 non-null  int64  \n",
      " 8   is_repeated_guest               119309 non-null  int64  \n",
      " 9   previous_cancellations          119309 non-null  int64  \n",
      " 10  previous_bookings_not_canceled  119309 non-null  int64  \n",
      " 11  booking_changes                 119309 non-null  int64  \n",
      " 12  days_in_waiting_list            119309 non-null  int64  \n",
      " 13  adr                             119309 non-null  float64\n",
      " 14  required_car_parking_spaces     119309 non-null  int64  \n",
      " 15  total_of_special_requests       119309 non-null  int64  \n",
      " 16  hotel_0                         119309 non-null  uint8  \n",
      " 17  hotel_1                         119309 non-null  uint8  \n",
      " 18  customer_type_0                 119309 non-null  uint8  \n",
      " 19  customer_type_1                 119309 non-null  uint8  \n",
      " 20  customer_type_2                 119309 non-null  uint8  \n",
      " 21  customer_type_3                 119309 non-null  uint8  \n",
      " 22  deposit_type_0                  119309 non-null  uint8  \n",
      " 23  deposit_type_1                  119309 non-null  uint8  \n",
      " 24  deposit_type_2                  119309 non-null  uint8  \n",
      " 25  market_segment_0                119309 non-null  uint8  \n",
      " 26  market_segment_1                119309 non-null  uint8  \n",
      " 27  market_segment_2                119309 non-null  uint8  \n",
      " 28  market_segment_3                119309 non-null  uint8  \n",
      " 29  market_segment_4                119309 non-null  uint8  \n",
      " 30  market_segment_5                119309 non-null  uint8  \n",
      " 31  market_segment_6                119309 non-null  uint8  \n",
      " 32  distribution_channel_Corporate  119309 non-null  uint8  \n",
      " 33  distribution_channel_Direct     119309 non-null  uint8  \n",
      " 34  distribution_channel_GDS        119309 non-null  uint8  \n",
      " 35  distribution_channel_TA/TO      119309 non-null  uint8  \n",
      " 36  distribution_channel_Undefined  119309 non-null  uint8  \n",
      " 37  country_0                       119309 non-null  uint8  \n",
      " 38  country_1                       119309 non-null  uint8  \n",
      " 39  country_2                       119309 non-null  uint8  \n",
      " 40  country_3                       119309 non-null  uint8  \n",
      " 41  country_4                       119309 non-null  uint8  \n",
      " 42  country_5                       119309 non-null  uint8  \n",
      "dtypes: float64(2), int64(14), uint8(27)\n",
      "memory usage: 17.6 MB\n"
     ]
    }
   ],
   "source": [
    "df.info()"
   ]
  },
  {
   "cell_type": "code",
   "execution_count": 32,
   "id": "e44e4950",
   "metadata": {
    "scrolled": true
   },
   "outputs": [
    {
     "data": {
      "text/plain": [
       "<seaborn.axisgrid.FacetGrid at 0x1bccfa19460>"
      ]
     },
     "execution_count": 32,
     "metadata": {},
     "output_type": "execute_result"
    },
    {
     "data": {
      "image/png": "[encoded data removed]",
      "text/plain": [
       "<Figure size 360x360 with 1 Axes>"
      ]
     },
     "metadata": {},
     "output_type": "display_data"
    }
   ],
   "source": [
    "sns.displot(df['is_canceled'])"
   ]
  },
  {
   "cell_type": "markdown",
   "id": "261f9866",
   "metadata": {},
   "source": [
    "# Machine Learning  <a class=\"anchor\" id=\"ml-model\"></a>"
   ]
  },
  {
   "cell_type": "code",
   "execution_count": 33,
   "id": "b72278eb",
   "metadata": {},
   "outputs": [],
   "source": [
    "train_var = df.drop(['is_canceled'], axis=1)\n",
    "test_var = df['is_canceled']\n",
    "X_train, X_test, y_train, y_test = train_test_split(train_var, test_var, test_size=0.20)"
   ]
  },
  {
   "cell_type": "code",
   "execution_count": 34,
   "id": "5fa04994",
   "metadata": {},
   "outputs": [],
   "source": [
    "#We normalize data to transform features to be on a similar scale\n",
    "std_scaler = StandardScaler()\n",
    "std_scaler.fit(X_train)\n",
    "X_train_std = std_scaler.transform(X_train)\n",
    "X_test_std = std_scaler.transform(X_test)\n"
   ]
  },
  {
   "cell_type": "markdown",
   "id": "a57e0ff3",
   "metadata": {},
   "source": [
    "### Logistic Regression"
   ]
  },
  {
   "cell_type": "code",
   "execution_count": 50,
   "id": "df1154e4",
   "metadata": {},
   "outputs": [
    {
     "name": "stdout",
     "output_type": "stream",
     "text": [
      "Best: 0.804921 using {'C': 1.0, 'penalty': 'l2', 'solver': 'liblinear'}\n"
     ]
    }
   ],
   "source": [
    "model = LogisticRegression()\n",
    "solvers = ['newton-cg', 'lbfgs', 'liblinear']\n",
    "penalty = ['l2']\n",
    "c_values = [100, 10, 1.0, 0.1, 0.01]\n",
    "# define grid search\n",
    "grid = dict(solver=solvers,penalty=penalty,C=c_values)\n",
    "cv = RepeatedStratifiedKFold(n_splits=10, n_repeats=3, random_state=1)\n",
    "grid_search = GridSearchCV(estimator=model, param_grid=grid, n_jobs=-1, cv=cv, scoring='accuracy',error_score=0)\n",
    "grid_result = grid_search.fit(X_train_std, y_train)\n",
    "# summarize results\n",
    "print(\"Best: %f using %s\" % (grid_result.best_score_, grid_result.best_params_))\n",
    "\n",
    "\n"
   ]
  },
  {
   "cell_type": "code",
   "execution_count": 52,
   "id": "b239632b",
   "metadata": {},
   "outputs": [
    {
     "name": "stdout",
     "output_type": "stream",
     "text": [
      "Test accuracy: 0.809\n",
      "F1 score: 0.709\n"
     ]
    }
   ],
   "source": [
    "logreg=LogisticRegression(C=1,penalty=\"l2\", solver = 'liblinear')\n",
    "logreg.fit(X_train_std, y_train)\n",
    "l_pred = logreg.predict(X_test_std)\n",
    "print(\"Test accuracy: {:.3f}\".format(logreg.score(X_test_std, y_test)))\n",
    "print(\"F1 score: {:.3f}\".format(f1_score(y_test, l_pred)))"
   ]
  },
  {
   "cell_type": "markdown",
   "id": "1e212eaa",
   "metadata": {},
   "source": [
    "### Decision Tree"
   ]
  },
  {
   "cell_type": "code",
   "execution_count": 53,
   "id": "82876322-223a-4135-9aaa-e74874f95aae",
   "metadata": {},
   "outputs": [
    {
     "name": "stdout",
     "output_type": "stream",
     "text": [
      "Average cross validation score: 0.749\n",
      "Test accuracy: 0.755\n",
      "F1 score: 0.500\n",
      "[[15089    13]\n",
      " [ 5839  2921]]\n"
     ]
    }
   ],
   "source": [
    "tree = DecisionTreeClassifier(max_depth=1).fit(X_train_std, y_train)\n",
    "scores = cross_val_score(tree, X_train_std, y_train, cv=5)\n",
    "tree_pred = tree.predict(X_test_std)\n",
    "print(\"Average cross validation score: {:.3f}\".format(scores.mean()))\n",
    "print(\"Test accuracy: {:.3f}\".format(tree.score(X_test_std, y_test)))\n",
    "print(\"F1 score: {:.3f}\".format(f1_score(y_test, tree_pred)))\n",
    "print(confusion_matrix(y_test, tree_pred))"
   ]
  },
  {
   "cell_type": "markdown",
   "id": "f58d3359",
   "metadata": {},
   "source": [
    "### KNN"
   ]
  },
  {
   "cell_type": "code",
   "execution_count": 44,
   "id": "c14b7b32-eadc-4df4-acb1-647e0ab5fdb6",
   "metadata": {},
   "outputs": [
    {
     "name": "stdout",
     "output_type": "stream",
     "text": [
      "Fitting 20 folds for each of 5 candidates, totalling 100 fits\n",
      "{'n_neighbors': 4}\n",
      "Accuracy for our training dataset with tuning is : 84.11%\n"
     ]
    }
   ],
   "source": [
    "knn = KNeighborsClassifier()\n",
    "k_range = list(range(1, 6))\n",
    "param_grid = dict(n_neighbors=k_range)\n",
    "cv = RepeatedStratifiedKFold(n_splits=10, n_repeats=2, random_state=1)\n",
    "grid_search = GridSearchCV(knn, param_grid, cv=cv, scoring='accuracy', return_train_score=False,verbose=1)\n",
    "grid_result = grid_search.fit(X_train_std, y_train)\n",
    "print(grid_search.best_params_)\n",
    "accuracy = grid_search.best_score_ *100\n",
    "print(\"Accuracy for our training dataset with tuning is : {:.2f}%\".format(accuracy) )\n",
    "training_accuracy = []\n",
    "test_accuracy = []\n",
    "neighbors_settings = range(3, 5)\n",
    "for n_neighbors in neighbors_settings:\n",
    "    knn = KNeighborsClassifier(n_neighbors=n_neighbors)\n",
    "    knn.fit(X_train_std, y_train)\n",
    "    training_accuracy.append(knn.score(X_train_std, y_train))\n",
    "    test_accuracy.append(knn.score(X_train_std, y_train))\n",
    "    \n",
    "\n"
   ]
  },
  {
   "cell_type": "code",
   "execution_count": 46,
   "id": "6e9bb99a",
   "metadata": {},
   "outputs": [
    {
     "name": "stdout",
     "output_type": "stream",
     "text": [
      "Average cross validation score: 0.840\n",
      "Test accuracy: 0.844\n",
      "F1 score: 0.766\n",
      "[[14039  1063]\n",
      " [ 2659  6101]]\n"
     ]
    }
   ],
   "source": [
    "knn = KNeighborsClassifier(n_neighbors=4).fit(X_train_std, y_train)\n",
    "scores = cross_val_score(knn, X_train_std, y_train, cv=5)\n",
    "knn_pred = knn.predict(X_test_std)\n",
    "print(\"Average cross validation score: {:.3f}\".format(scores.mean()))\n",
    "print(\"Test accuracy: {:.3f}\".format(knn.score(X_test_std, y_test)))\n",
    "print(\"F1 score: {:.3f}\".format(f1_score(y_test, knn_pred)))\n",
    "print(confusion_matrix(y_test, knn_pred))"
   ]
  },
  {
   "cell_type": "markdown",
   "id": "dcfc6de4",
   "metadata": {},
   "source": [
    "### Random Forest"
   ]
  },
  {
   "cell_type": "code",
   "execution_count": 54,
   "id": "faa1552a",
   "metadata": {},
   "outputs": [],
   "source": [
    "def classifier(train, test, estimator, param_grid):\n",
    "    grid_search = GridSearchCV(estimator, param_grid, cv=5)  #Method to find optimal parameter values from a given set of parameters in a grid\n",
    "    grid_search.fit(train, y_train)\n",
    "    print(\"Best parameters:\", grid_search.best_params_)  #Printing best parameters from grid search result\n",
    "    print(\"Best score:\", grid_search.best_score_)\n",
    "    print(\"Test score: {:.3f}\".format(grid_search.score(test, y_test)))\n",
    "    \n",
    "    \n",
    "#Next we move towards Feature selection. Features whose importance value is greater or equal are kept while the others are discarded. Threshold = median then the threshold value is the median of the feature importances\n",
    "def feature_selection(model):\n",
    "    select_features = SelectFromModel(estimator=model, threshold='median')\n",
    "    select_features.fit(X_train_std, y_train)\n",
    "    X_train_select = select_features.transform(X_train_std)\n",
    "    X_test_select = select_features.transform(X_test_std)\n",
    "    return X_train_select, X_test_select\n",
    "\n",
    "def run_model(model, model_feature, param_grid):\n",
    "    print(\"Before feature selection:\")\n",
    "    classifier(X_train_std, X_test_std, model, param_grid)\n",
    "    X_train_select, X_test_select = feature_selection(model_feature)\n",
    "    print(\"After feature selection\")\n",
    "    classifier(X_train_select, X_test_select, model, param_grid)"
   ]
  },
  {
   "cell_type": "code",
   "execution_count": 55,
   "id": "75a88d77",
   "metadata": {
    "scrolled": true
   },
   "outputs": [
    {
     "name": "stdout",
     "output_type": "stream",
     "text": [
      "Before feature selection:\n",
      "Best parameters: {'max_depth': 5, 'n_estimators': 50}\n",
      "Best score: 0.7697465548395743\n",
      "Test score: 0.772\n",
      "After feature selection\n",
      "Best parameters: {'max_depth': 5, 'n_estimators': 50}\n",
      "Best score: 0.7741469476838676\n",
      "Test score: 0.779\n"
     ]
    }
   ],
   "source": [
    "#Random Forest\n",
    "param_grid = {'n_estimators':[50,75,100], 'max_depth':[1,2,5]}\n",
    "run_model(RandomForestClassifier(), RandomForestClassifier(n_estimators=50, max_depth=2), param_grid)"
   ]
  },
  {
   "cell_type": "markdown",
   "id": "54a37667",
   "metadata": {},
   "source": [
    "### Neural Network"
   ]
  },
  {
   "cell_type": "code",
   "execution_count": 43,
   "id": "c14b1c4a",
   "metadata": {
    "scrolled": true
   },
   "outputs": [
    {
     "name": "stdout",
     "output_type": "stream",
     "text": [
      "Train score: 0.866\n",
      "Test accuracy: 0.857\n",
      "F1 score: 0.798\n",
      "[[13715  1387]\n",
      " [ 2026  6734]]\n"
     ]
    },
    {
     "name": "stderr",
     "output_type": "stream",
     "text": [
      "C:\\Users\\dmmehta3\\Anaconda3\\lib\\site-packages\\sklearn\\neural_network\\_multilayer_perceptron.py:692: ConvergenceWarning: Stochastic Optimizer: Maximum iterations (200) reached and the optimization hasn't converged yet.\n",
      "  warnings.warn(\n"
     ]
    }
   ],
   "source": [
    "mlp = MLPClassifier(hidden_layer_sizes=[35, 20], alpha=0.001, solver='adam', activation='relu') #The ith element represents the number of neurons in the ith hidden layer, alpha is strength of L2 regularization, relu is the activation function for our hidden layer\n",
    "mlp.fit(X_train_std, y_train)\n",
    "mlp_pred = mlp.predict(X_test_std)\n",
    "print(\"Train score: {:.3f}\".format(mlp.score(X_train_std, y_train)))\n",
    "print(\"Test accuracy: {:.3f}\".format(mlp.score(X_test_std, y_test)))\n",
    "print(\"F1 score: {:.3f}\".format(f1_score(y_test, mlp_pred)))\n",
    "print(confusion_matrix(y_test, mlp_pred))"
   ]
  },
  {
   "cell_type": "markdown",
   "id": "d7f89531",
   "metadata": {},
   "source": [
    "# Conclusion   <a class=\"anchor\" id=\"model-conclusion\"></a>"
   ]
  },
  {
   "cell_type": "markdown",
   "id": "3ebb714a",
   "metadata": {},
   "source": [
    "\n",
    "In our prediction, False positive and False Negatives both are of importance since:\n",
    "If a booking is canceled and is predicted as not canceled, hotel might have ambiguity in estimating the number of available rooms and thereby other customers might be impacted because of being waitlisted. <br>\n",
    "On the other hand if the booking is not canceled and is predicted as canceled the customers might be affected as well. <br>\n",
    "Thus, we use F1 score to check which model predicts the best. <br>\n",
    "From the F1 score results of each model, Neural Network is the winning model with a F1 score of 0.798. <br>\n",
    "\n",
    "* [Go to Top](#table-of-content)\n"
   ]
  },
  {
   "cell_type": "code",
   "execution_count": null,
   "id": "562ccd4e",
   "metadata": {},
   "outputs": [],
   "source": []
  }
 ],
 "metadata": {
  "kernelspec": {
   "display_name": "Python 3 (ipykernel)",
   "language": "python",
   "name": "python3"
  },
  "language_info": {
   "codemirror_mode": {
    "name": "ipython",
    "version": 3
   },
   "file_extension": ".py",
   "mimetype": "text/x-python",
   "name": "python",
   "nbconvert_exporter": "python",
   "pygments_lexer": "ipython3",
   "version": "3.9.12"
  }
 },
 "nbformat": 4,
 "nbformat_minor": 5
}
